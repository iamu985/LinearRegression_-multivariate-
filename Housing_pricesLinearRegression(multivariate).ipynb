{
  "nbformat": 4,
  "nbformat_minor": 0,
  "metadata": {
    "colab": {
      "name": "Housing_pricesLinearRegression(multivariate).ipynb",
      "provenance": [],
      "collapsed_sections": [],
      "authorship_tag": "ABX9TyMhHb10+ASrw8jq3wlg/G7z",
      "include_colab_link": true
    },
    "kernelspec": {
      "name": "python3",
      "display_name": "Python 3"
    }
  },
  "cells": [
    {
      "cell_type": "markdown",
      "metadata": {
        "id": "view-in-github",
        "colab_type": "text"
      },
      "source": [
        "<a href=\"https://colab.research.google.com/github/iamu985/LinearRegression_-multivariate-/blob/master/Housing_pricesLinearRegression(multivariate).ipynb\" target=\"_parent\"><img src=\"https://colab.research.google.com/assets/colab-badge.svg\" alt=\"Open In Colab\"/></a>"
      ]
    },
    {
      "cell_type": "code",
      "metadata": {
        "id": "UkJMoe9DkNZW",
        "colab_type": "code",
        "colab": {
          "base_uri": "https://localhost:8080/",
          "height": 71
        },
        "outputId": "d1f8a3af-64ec-4be2-d897-e290e971e43a"
      },
      "source": [
        "import numpy as np\n",
        "import pandas as pd\n",
        "import matplotlib.pyplot as plt\n",
        "from mpl_toolkits import mplot3d\n",
        "import seaborn as sb\n",
        "sb.set(style='darkgrid')"
      ],
      "execution_count": 5,
      "outputs": [
        {
          "output_type": "stream",
          "text": [
            "/usr/local/lib/python3.6/dist-packages/statsmodels/tools/_testing.py:19: FutureWarning: pandas.util.testing is deprecated. Use the functions in the public API at pandas.testing instead.\n",
            "  import pandas.util.testing as tm\n"
          ],
          "name": "stderr"
        }
      ]
    },
    {
      "cell_type": "markdown",
      "metadata": {
        "id": "TeTAYWvcwFVv",
        "colab_type": "text"
      },
      "source": [
        "Brief Summary on the Mathematical Approaches:\n",
        "\n",
        "\n",
        "> Here I list all the formulaes and concepts that I use in my humble approach to apply Multi-variate Linear Regression model from scratch to a dataset of housing prices.\n",
        " \n",
        "\n"
      ]
    },
    {
      "cell_type": "markdown",
      "metadata": {
        "id": "bcz5LL1wxnxm",
        "colab_type": "text"
      },
      "source": [
        "###Feature Scaling:\n",
        "\n",
        "$$\\text{Feature scale} = \\frac{x_{i} - \\bar{x}}{S}$$\n",
        "\n",
        "where $$S = max_{x} - min_{x}$$ and  $\\bar{x}$ is the mean."
      ]
    },
    {
      "cell_type": "markdown",
      "metadata": {
        "id": "bRH-PofC0YDY",
        "colab_type": "text"
      },
      "source": [
        "I have used feature scaling in my dataset to kind of normalize the values and bring it down to comparable ranges such that it is easier see the relationship between the attributes. The main objective of feature scaling is to bring down values of the dataset to a similar range of -1 to 1 or values closer to 1 such as -0.5 to 1 or -3 to 3."
      ]
    },
    {
      "cell_type": "markdown",
      "metadata": {
        "id": "tZ235DEz3DAY",
        "colab_type": "text"
      },
      "source": [
        "###Cost Function or Mean Squared Error\n",
        "$$\\text{J}(\\theta) = \\frac{1}{2m}\\sum_{i=1}^m(h_{\\theta}(X) - y)^2$$\n",
        "\n",
        "where, m = no. of samples and n = no. of features. X is the matrix of input values from our dataset of shape (m x n) and y is our output vector of shape (m x 1).\n",
        "\n",
        "also, $h_{\\theta}(X)$ is our hypothesis or in other words our predicted values. And it is calculated as follows:\n",
        "\n",
        "$$h_{\\theta}(X) = \\theta_{0}X_{0} + \\theta_{1}X_{1} + \\theta_2X_{2}+...+\\theta_{n}X_{n}$$\n",
        "\n",
        "which can easily be written as \n",
        "$$h_{\\theta}(X) = \\theta^TX$$\n",
        "\n",
        "where X is a matrix and $\\theta^{T}$ is a transposed vector of all $\\theta's$.\n",
        "\n",
        "\n",
        "\n"
      ]
    },
    {
      "cell_type": "markdown",
      "metadata": {
        "id": "kQOvoQmy4AB8",
        "colab_type": "text"
      },
      "source": [
        "But in this case I have transformed the original formula for my hypotheis i.e. $h_{\\theta}(X) = \\theta^{T}X$ and instead I have used $h_{\\theta}(X)=X\\theta$.\n",
        "The reason being that X is a $(m \\times n)$ matrix in my case. I have chosen this shape of matrix rather than $(n \\times m)$ for X. $\\theta$ is $(n \\times 1)$ vector whose dot product will give me $(m \\times 1)$ vector which is the desired result in this case."
      ]
    },
    {
      "cell_type": "markdown",
      "metadata": {
        "id": "3I4q9rY67_mM",
        "colab_type": "text"
      },
      "source": [
        "If we were to use the transpose formula I would have gotten my dimensions wrong for $\\theta^{T}$ is $(1 \\times n)$ and the dot product would be between $(1 \\times n)$ and  $(m \\times n)$ which would give me a dimension error.To solve this problem in this case I should have to transpose both $\\theta$ and $X$ giving me $(1 \\times m)$ as my hypothesis. To be able to use this result in my program I would then again have to transpose the hypothesis.  "
      ]
    },
    {
      "cell_type": "markdown",
      "metadata": {
        "id": "TEBtlnvi-Ta2",
        "colab_type": "text"
      },
      "source": [
        "So, in order to avoid such path, I decided to go with the easiest one simply going for dot product between $X$ and $\\theta$."
      ]
    },
    {
      "cell_type": "markdown",
      "metadata": {
        "id": "3ZnP8RZV_MVS",
        "colab_type": "text"
      },
      "source": [
        "###Batch Gradient Descent\n",
        "Here comes the important part of the project. Updating the $\\theta's$ in order to find the best fit model for our dataset.\n",
        "\n",
        "Batch gradient descent is given by:\n",
        "\n",
        "$$\\theta_{j} :=  \\theta_{j} - \\alpha \\frac{\\partial}{\\partial \\theta}(J(\\theta)) $$\n",
        "\n",
        "where $\\alpha$ is the learning rate and $J(\\theta)$ is our cost function.\n",
        "\n",
        "If we include the formula of the cost function we will get:\n",
        "\n",
        "$$\\theta_{j} := \\theta_{j} - \\alpha \\frac{\\partial}{\\partial\\theta} (h_{\\theta}(X) - y)^2$$\n",
        "\n",
        "\n"
      ]
    },
    {
      "cell_type": "markdown",
      "metadata": {
        "id": "wv3A9NjtB3p2",
        "colab_type": "text"
      },
      "source": [
        "Solving for the partial derivative we get the following equation.\n",
        "\n",
        "$for \\; j=0:$\n",
        "$$\\theta_{0} := \\theta_{0} - \\alpha \\frac{1}{m}\\sum_{i=1}^m(h_{\\theta}(X)-y) X_{0}$$\n",
        "$\\text{where}\\; X_{0}$ is a vector of ones.\n",
        "\n",
        "$for\\; j=1:$\n",
        "$$\\theta_{1} := \\theta_{1} - \\alpha \\frac{1}{m}\\sum_{i=1}^m (h_{\\theta}(X)-y)X_{1}$$\n",
        "\n",
        "So the general form is\n",
        "\n",
        "$for\\; j = n:$\n",
        "$$\\theta_{n} := \\theta_{n} - \\alpha \\frac{1}{m} \\sum_{i=1}^m (h_{\\theta}(X) - y) X_{n}$$\n",
        "\n"
      ]
    },
    {
      "cell_type": "markdown",
      "metadata": {
        "id": "qhjED37NFTlW",
        "colab_type": "text"
      },
      "source": [
        "So the main function of gradient descent is to find the optimal values for $\\theta's$ so that the cost function $J(\\theta)$ is minimized.\n",
        "\n",
        "The partial derivatives wrt $\\theta$ gives us the information on the slope of the cost function plot. So, when the values reach the global minimum following the number of iterations the slope will be 0 which means the value of partial derivatives will be 0. In such case the value  of $\\theta$ remains unchanged. Thus no matter how much we iterate the program through we will be receiving the same value for $\\theta's$ if it has reached the global minimum keeping the value of $\\alpha$ in mind. "
      ]
    },
    {
      "cell_type": "markdown",
      "metadata": {
        "id": "u14HGUTIHYCM",
        "colab_type": "text"
      },
      "source": [
        "###Vectorization of Batch Gradient Descent\n",
        "\n",
        "In order to make the process of computation fast and efficient I have vectorized the operations performed in gradient descent in other words I have used linear algebra computation instead of slicing and indexing the arrays and vectors or dataframes.\n",
        "\n",
        "For example: "
      ]
    },
    {
      "cell_type": "code",
      "metadata": {
        "id": "akjDpWv2IoXA",
        "colab_type": "code",
        "colab": {}
      },
      "source": [
        "    #calculating theta change\n",
        "    error =  h - y\n",
        "    theta_change =  float(alpha) * const * (np.dot(X.transpose(), error))\n"
      ],
      "execution_count": 0,
      "outputs": []
    },
    {
      "cell_type": "markdown",
      "metadata": {
        "id": "1crF4Z2mItEs",
        "colab_type": "text"
      },
      "source": [
        "In the above code snippet error is this part of the formula $(h_{\\theta}(X) - y)$ where I calculate the difference between the predicted values and the actual output values.\n",
        "\n",
        "theta_change is calculating $\\alpha \\frac{1}{m}\\times (X^{T} \\times error)$.\n",
        "\n",
        "Here the dimension of error is $(m \\times 1)$ and the dimension of X is $(m \\times n)$ so transposing X will give me a dimension that is $(n \\times m)$. \n",
        "\n",
        "The dot product between $(n \\times m)$ and $(m \\times 1)$ will give me the result with $(n \\times 1)$ dimension which is my $\\theta$'s dimension."
      ]
    },
    {
      "cell_type": "markdown",
      "metadata": {
        "id": "R-uuvMFeLFHN",
        "colab_type": "text"
      },
      "source": [
        "###The Fun Stuff- Multi-variate Linear Regression from scratch\n",
        "Note: The dataset used in this project is taken from coursera.org, Andrew Ng's, Machine Learning course."
      ]
    },
    {
      "cell_type": "code",
      "metadata": {
        "id": "g71WUWkNpHfy",
        "colab_type": "code",
        "colab": {}
      },
      "source": [
        "#defining functions\n",
        "def feature_scale(data):\n",
        "  mean = float(data.mean())\n",
        "  scale = float(max(data) - min(data))\n",
        "  scaled_list = []\n",
        "  for i in range(len(data)):\n",
        "    featured_i = float((data[i] - mean) / scale)\n",
        "    scaled_list.append(featured_i)\n",
        "  scaled_array = np.array(scaled_list).reshape(len(data), 1)\n",
        "  return scaled_array\n",
        "\n",
        "def costFunction(X, y, params):\n",
        "  '''Computing cost and hypothesis'''\n",
        "  h = np.dot(X, params)\n",
        "  error = float(sum((h-y)**2))\n",
        "  const = float(1/(2*len(y)))\n",
        "  cost = float(const * error)\n",
        "  return cost\n",
        "\n",
        "def accuracy_score(X, y, params):\n",
        "  '''calculating the accuracy score of the params'''\n",
        "  h = np.dot(X, params)\n",
        "  error = (h - y) ** 2\n",
        "  score =  100 - (error.mean()*100)\n",
        "  return score\n",
        "\n",
        "def batch_gradient(X, y, params, alpha=0.001, iterations=15):\n",
        "  '''Computing for batch gradient descent'''\n",
        "  m = len(y)\n",
        "  const = float(1/m)\n",
        "  parameters = np.array(params, dtype='float').reshape(len(params), 1)\n",
        "  iters = 0\n",
        "  J_list, params_list = [], []\n",
        "  while iters < iterations:\n",
        "\n",
        "    #calling hypothesis and costfunction\n",
        "    h = np.dot(X, parameters)\n",
        "    J = costFunction(X, y, parameters)\n",
        "    J_list.append(J)\n",
        "    \n",
        "    #calculating theta change\n",
        "    error =  h - y\n",
        "    theta_change =  float(alpha) * const * (np.dot(X.transpose(), error))\n",
        "\n",
        "    #updating theta\n",
        "    parameters = parameters - theta_change\n",
        "\n",
        "    #checking for accuracy score\n",
        "    \n",
        "    iters += 1\n",
        "    #print(f'iters: {iters}, J: {J}, t1: {parameters[0]}, t2: {parameters[1]}, t3: {parameters[2]}, accuracy: {a_score}')\n",
        "  a_score = accuracy_score(X, y, parameters)\n",
        "  return parameters, J_list, a_score, params_list\n",
        "\n",
        "def loop(X, y, init_params):\n",
        "  active = True\n",
        "  c = 0\n",
        "  while active:\n",
        "    alpha = float(input('Alpha: '))\n",
        "    iterations = int(input('Iterations: '))\n",
        "    cont = input('Continue: ')\n",
        "    if cont == 'n':\n",
        "      active = False\n",
        "    \n",
        "    if cont == 'y':\n",
        "      active = True\n",
        "      c += 1\n",
        "\n",
        "    else:\n",
        "      print('wrong command')\n",
        "      active = False\n",
        "    \n",
        "    thetas, costs, acc_check, thetas_list = batch_gradient(X, y, init_params, alpha, iterations)\n",
        "    print('Computing Done\\n')\n",
        "    print('=' * 30, 'Summary', '=' * 30)\n",
        "    print(f'\\t\\ntheta1: {thetas[0]}, \\ntheta2: {thetas[1]}, \\ntheta3: {thetas[2]}, \\naccuracy: {acc_check}, \\nCost: {costs[-1]}')\n",
        "    print('*' * 67 )\n",
        "    cont = input('Continue: ')\n",
        "    if cont == 'n':\n",
        "      active = False\n",
        "    if cont == 'y':\n",
        "      continue\n",
        "    else:\n",
        "      active = False"
      ],
      "execution_count": 0,
      "outputs": []
    },
    {
      "cell_type": "code",
      "metadata": {
        "id": "v55xcGDOknjm",
        "colab_type": "code",
        "outputId": "8d852ed6-d9b6-481a-9880-7af3ec89f0f9",
        "colab": {
          "base_uri": "https://localhost:8080/",
          "height": 204
        }
      },
      "source": [
        "#loading datasets\n",
        "filename = '/content/housing_prices.csv'\n",
        "df = pd.read_csv(filename)\n",
        "df.head()"
      ],
      "execution_count": 7,
      "outputs": [
        {
          "output_type": "execute_result",
          "data": {
            "text/html": [
              "<div>\n",
              "<style scoped>\n",
              "    .dataframe tbody tr th:only-of-type {\n",
              "        vertical-align: middle;\n",
              "    }\n",
              "\n",
              "    .dataframe tbody tr th {\n",
              "        vertical-align: top;\n",
              "    }\n",
              "\n",
              "    .dataframe thead th {\n",
              "        text-align: right;\n",
              "    }\n",
              "</style>\n",
              "<table border=\"1\" class=\"dataframe\">\n",
              "  <thead>\n",
              "    <tr style=\"text-align: right;\">\n",
              "      <th></th>\n",
              "      <th>size in ft.sq</th>\n",
              "      <th>no. of bedrooms</th>\n",
              "      <th>prices</th>\n",
              "    </tr>\n",
              "  </thead>\n",
              "  <tbody>\n",
              "    <tr>\n",
              "      <th>0</th>\n",
              "      <td>1600</td>\n",
              "      <td>3</td>\n",
              "      <td>329900</td>\n",
              "    </tr>\n",
              "    <tr>\n",
              "      <th>1</th>\n",
              "      <td>2400</td>\n",
              "      <td>3</td>\n",
              "      <td>369000</td>\n",
              "    </tr>\n",
              "    <tr>\n",
              "      <th>2</th>\n",
              "      <td>1416</td>\n",
              "      <td>2</td>\n",
              "      <td>232000</td>\n",
              "    </tr>\n",
              "    <tr>\n",
              "      <th>3</th>\n",
              "      <td>3000</td>\n",
              "      <td>4</td>\n",
              "      <td>539900</td>\n",
              "    </tr>\n",
              "    <tr>\n",
              "      <th>4</th>\n",
              "      <td>1985</td>\n",
              "      <td>4</td>\n",
              "      <td>299900</td>\n",
              "    </tr>\n",
              "  </tbody>\n",
              "</table>\n",
              "</div>"
            ],
            "text/plain": [
              "   size in ft.sq  no. of bedrooms  prices\n",
              "0           1600                3  329900\n",
              "1           2400                3  369000\n",
              "2           1416                2  232000\n",
              "3           3000                4  539900\n",
              "4           1985                4  299900"
            ]
          },
          "metadata": {
            "tags": []
          },
          "execution_count": 7
        }
      ]
    },
    {
      "cell_type": "markdown",
      "metadata": {
        "id": "vjvoZRSjpbFm",
        "colab_type": "text"
      },
      "source": [
        "Our dataset consists of 3 attributes among of which the first 2 are our labels or features and the last 'prices' is our output value."
      ]
    },
    {
      "cell_type": "code",
      "metadata": {
        "id": "eT6o9C-6lDUD",
        "colab_type": "code",
        "colab": {}
      },
      "source": [
        "cols = df.columns\n",
        "X1_unfeatured = df[cols[0]]\n",
        "X2_unfeatured = df[cols[1]]\n",
        "y_unfeatured = df[cols[2]]"
      ],
      "execution_count": 0,
      "outputs": []
    },
    {
      "cell_type": "code",
      "metadata": {
        "id": "TwQm_IvnlcJg",
        "colab_type": "code",
        "outputId": "bd38e48e-f9e3-422f-ddba-524b06742165",
        "colab": {
          "base_uri": "https://localhost:8080/",
          "height": 681
        }
      },
      "source": [
        "#plotting the unfeatured datasets\n",
        "fig, axs = plt.subplots(2, figsize=(13, 11))\n",
        "axs[0].scatter(X1_unfeatured, y_unfeatured)\n",
        "axs[0].set_title('Size vs Price(unf)')\n",
        "axs[1].scatter(X2_unfeatured, y_unfeatured)\n",
        "axs[1].set_title('Number of bedrooms vs prices(unf)')"
      ],
      "execution_count": 9,
      "outputs": [
        {
          "output_type": "execute_result",
          "data": {
            "text/plain": [
              "Text(0.5, 1.0, 'Number of bedrooms vs prices(unf)')"
            ]
          },
          "metadata": {
            "tags": []
          },
          "execution_count": 9
        },
        {
          "output_type": "display_data",
          "data": {
            "image/png": "[encoded data removed]",
            "text/plain": [
              "<Figure size 936x792 with 2 Axes>"
            ]
          },
          "metadata": {
            "tags": []
          }
        }
      ]
    },
    {
      "cell_type": "markdown",
      "metadata": {
        "id": "U6wNFBAiptKQ",
        "colab_type": "text"
      },
      "source": [
        "That is how our unfeatured dataset looks like at the moment. Note (unf) is abbreviation of unfeatured. Now lets get our features scaled using feature_scale function from above."
      ]
    },
    {
      "cell_type": "code",
      "metadata": {
        "id": "PWKX4NVZmJ5h",
        "colab_type": "code",
        "colab": {}
      },
      "source": [
        "X1_scaled = feature_scale(df[cols[0]])\n",
        "X2_scaled = feature_scale(df[cols[1]])\n",
        "y_scaled = feature_scale(df[cols[2]])"
      ],
      "execution_count": 0,
      "outputs": []
    },
    {
      "cell_type": "code",
      "metadata": {
        "id": "sakNCOIBmnyB",
        "colab_type": "code",
        "colab": {}
      },
      "source": [
        "df['scaled_size'] = X1_scaled\n",
        "df['scaled_rooms'] = X2_scaled\n",
        "df['scaled_prices'] = y_scaled"
      ],
      "execution_count": 0,
      "outputs": []
    },
    {
      "cell_type": "code",
      "metadata": {
        "id": "h7XVVwKfntmn",
        "colab_type": "code",
        "outputId": "de8ce510-ef5e-4f9d-fae7-83b3ccb3608f",
        "colab": {
          "base_uri": "https://localhost:8080/",
          "height": 204
        }
      },
      "source": [
        "df.head()"
      ],
      "execution_count": 12,
      "outputs": [
        {
          "output_type": "execute_result",
          "data": {
            "text/html": [
              "<div>\n",
              "<style scoped>\n",
              "    .dataframe tbody tr th:only-of-type {\n",
              "        vertical-align: middle;\n",
              "    }\n",
              "\n",
              "    .dataframe tbody tr th {\n",
              "        vertical-align: top;\n",
              "    }\n",
              "\n",
              "    .dataframe thead th {\n",
              "        text-align: right;\n",
              "    }\n",
              "</style>\n",
              "<table border=\"1\" class=\"dataframe\">\n",
              "  <thead>\n",
              "    <tr style=\"text-align: right;\">\n",
              "      <th></th>\n",
              "      <th>size in ft.sq</th>\n",
              "      <th>no. of bedrooms</th>\n",
              "      <th>prices</th>\n",
              "      <th>scaled_size</th>\n",
              "      <th>scaled_rooms</th>\n",
              "      <th>scaled_prices</th>\n",
              "    </tr>\n",
              "  </thead>\n",
              "  <tbody>\n",
              "    <tr>\n",
              "      <th>0</th>\n",
              "      <td>1600</td>\n",
              "      <td>3</td>\n",
              "      <td>329900</td>\n",
              "      <td>-0.109883</td>\n",
              "      <td>-0.043478</td>\n",
              "      <td>-0.017395</td>\n",
              "    </tr>\n",
              "    <tr>\n",
              "      <th>1</th>\n",
              "      <td>2400</td>\n",
              "      <td>3</td>\n",
              "      <td>369000</td>\n",
              "      <td>0.110746</td>\n",
              "      <td>-0.043478</td>\n",
              "      <td>0.056378</td>\n",
              "    </tr>\n",
              "    <tr>\n",
              "      <th>2</th>\n",
              "      <td>1416</td>\n",
              "      <td>2</td>\n",
              "      <td>232000</td>\n",
              "      <td>-0.160627</td>\n",
              "      <td>-0.293478</td>\n",
              "      <td>-0.202112</td>\n",
              "    </tr>\n",
              "    <tr>\n",
              "      <th>3</th>\n",
              "      <td>3000</td>\n",
              "      <td>4</td>\n",
              "      <td>539900</td>\n",
              "      <td>0.276218</td>\n",
              "      <td>0.206522</td>\n",
              "      <td>0.378831</td>\n",
              "    </tr>\n",
              "    <tr>\n",
              "      <th>4</th>\n",
              "      <td>1985</td>\n",
              "      <td>4</td>\n",
              "      <td>299900</td>\n",
              "      <td>-0.003705</td>\n",
              "      <td>0.206522</td>\n",
              "      <td>-0.073999</td>\n",
              "    </tr>\n",
              "  </tbody>\n",
              "</table>\n",
              "</div>"
            ],
            "text/plain": [
              "   size in ft.sq  no. of bedrooms  ...  scaled_rooms  scaled_prices\n",
              "0           1600                3  ...     -0.043478      -0.017395\n",
              "1           2400                3  ...     -0.043478       0.056378\n",
              "2           1416                2  ...     -0.293478      -0.202112\n",
              "3           3000                4  ...      0.206522       0.378831\n",
              "4           1985                4  ...      0.206522      -0.073999\n",
              "\n",
              "[5 rows x 6 columns]"
            ]
          },
          "metadata": {
            "tags": []
          },
          "execution_count": 12
        }
      ]
    },
    {
      "cell_type": "code",
      "metadata": {
        "id": "_gMg4pkWop1M",
        "colab_type": "code",
        "colab": {}
      },
      "source": [
        "m = len(df)\n",
        "ones = np.zeros((m,1))"
      ],
      "execution_count": 0,
      "outputs": []
    },
    {
      "cell_type": "code",
      "metadata": {
        "id": "7pxLoN4cqS9a",
        "colab_type": "code",
        "colab": {}
      },
      "source": [
        "df['ones'] = ones"
      ],
      "execution_count": 0,
      "outputs": []
    },
    {
      "cell_type": "code",
      "metadata": {
        "id": "ezYUSIyJqaKM",
        "colab_type": "code",
        "outputId": "d0675ff9-eef1-4d4e-f30c-e35f2ec51920",
        "colab": {
          "base_uri": "https://localhost:8080/",
          "height": 204
        }
      },
      "source": [
        "df.head()"
      ],
      "execution_count": 15,
      "outputs": [
        {
          "output_type": "execute_result",
          "data": {
            "text/html": [
              "<div>\n",
              "<style scoped>\n",
              "    .dataframe tbody tr th:only-of-type {\n",
              "        vertical-align: middle;\n",
              "    }\n",
              "\n",
              "    .dataframe tbody tr th {\n",
              "        vertical-align: top;\n",
              "    }\n",
              "\n",
              "    .dataframe thead th {\n",
              "        text-align: right;\n",
              "    }\n",
              "</style>\n",
              "<table border=\"1\" class=\"dataframe\">\n",
              "  <thead>\n",
              "    <tr style=\"text-align: right;\">\n",
              "      <th></th>\n",
              "      <th>size in ft.sq</th>\n",
              "      <th>no. of bedrooms</th>\n",
              "      <th>prices</th>\n",
              "      <th>scaled_size</th>\n",
              "      <th>scaled_rooms</th>\n",
              "      <th>scaled_prices</th>\n",
              "      <th>ones</th>\n",
              "    </tr>\n",
              "  </thead>\n",
              "  <tbody>\n",
              "    <tr>\n",
              "      <th>0</th>\n",
              "      <td>1600</td>\n",
              "      <td>3</td>\n",
              "      <td>329900</td>\n",
              "      <td>-0.109883</td>\n",
              "      <td>-0.043478</td>\n",
              "      <td>-0.017395</td>\n",
              "      <td>0.0</td>\n",
              "    </tr>\n",
              "    <tr>\n",
              "      <th>1</th>\n",
              "      <td>2400</td>\n",
              "      <td>3</td>\n",
              "      <td>369000</td>\n",
              "      <td>0.110746</td>\n",
              "      <td>-0.043478</td>\n",
              "      <td>0.056378</td>\n",
              "      <td>0.0</td>\n",
              "    </tr>\n",
              "    <tr>\n",
              "      <th>2</th>\n",
              "      <td>1416</td>\n",
              "      <td>2</td>\n",
              "      <td>232000</td>\n",
              "      <td>-0.160627</td>\n",
              "      <td>-0.293478</td>\n",
              "      <td>-0.202112</td>\n",
              "      <td>0.0</td>\n",
              "    </tr>\n",
              "    <tr>\n",
              "      <th>3</th>\n",
              "      <td>3000</td>\n",
              "      <td>4</td>\n",
              "      <td>539900</td>\n",
              "      <td>0.276218</td>\n",
              "      <td>0.206522</td>\n",
              "      <td>0.378831</td>\n",
              "      <td>0.0</td>\n",
              "    </tr>\n",
              "    <tr>\n",
              "      <th>4</th>\n",
              "      <td>1985</td>\n",
              "      <td>4</td>\n",
              "      <td>299900</td>\n",
              "      <td>-0.003705</td>\n",
              "      <td>0.206522</td>\n",
              "      <td>-0.073999</td>\n",
              "      <td>0.0</td>\n",
              "    </tr>\n",
              "  </tbody>\n",
              "</table>\n",
              "</div>"
            ],
            "text/plain": [
              "   size in ft.sq  no. of bedrooms  prices  ...  scaled_rooms  scaled_prices  ones\n",
              "0           1600                3  329900  ...     -0.043478      -0.017395   0.0\n",
              "1           2400                3  369000  ...     -0.043478       0.056378   0.0\n",
              "2           1416                2  232000  ...     -0.293478      -0.202112   0.0\n",
              "3           3000                4  539900  ...      0.206522       0.378831   0.0\n",
              "4           1985                4  299900  ...      0.206522      -0.073999   0.0\n",
              "\n",
              "[5 rows x 7 columns]"
            ]
          },
          "metadata": {
            "tags": []
          },
          "execution_count": 15
        }
      ]
    },
    {
      "cell_type": "code",
      "metadata": {
        "id": "-vaiz-z2qbL6",
        "colab_type": "code",
        "colab": {}
      },
      "source": [
        "colms = df.columns\n",
        "data = df[[colms[6], colms[3], colms[4], colms[5]]]"
      ],
      "execution_count": 0,
      "outputs": []
    },
    {
      "cell_type": "code",
      "metadata": {
        "id": "W2sxsp3-qxn2",
        "colab_type": "code",
        "outputId": "6b671573-4981-4bce-8d7f-5bf7b3361fe5",
        "colab": {
          "base_uri": "https://localhost:8080/",
          "height": 204
        }
      },
      "source": [
        "data.head()"
      ],
      "execution_count": 17,
      "outputs": [
        {
          "output_type": "execute_result",
          "data": {
            "text/html": [
              "<div>\n",
              "<style scoped>\n",
              "    .dataframe tbody tr th:only-of-type {\n",
              "        vertical-align: middle;\n",
              "    }\n",
              "\n",
              "    .dataframe tbody tr th {\n",
              "        vertical-align: top;\n",
              "    }\n",
              "\n",
              "    .dataframe thead th {\n",
              "        text-align: right;\n",
              "    }\n",
              "</style>\n",
              "<table border=\"1\" class=\"dataframe\">\n",
              "  <thead>\n",
              "    <tr style=\"text-align: right;\">\n",
              "      <th></th>\n",
              "      <th>ones</th>\n",
              "      <th>scaled_size</th>\n",
              "      <th>scaled_rooms</th>\n",
              "      <th>scaled_prices</th>\n",
              "    </tr>\n",
              "  </thead>\n",
              "  <tbody>\n",
              "    <tr>\n",
              "      <th>0</th>\n",
              "      <td>0.0</td>\n",
              "      <td>-0.109883</td>\n",
              "      <td>-0.043478</td>\n",
              "      <td>-0.017395</td>\n",
              "    </tr>\n",
              "    <tr>\n",
              "      <th>1</th>\n",
              "      <td>0.0</td>\n",
              "      <td>0.110746</td>\n",
              "      <td>-0.043478</td>\n",
              "      <td>0.056378</td>\n",
              "    </tr>\n",
              "    <tr>\n",
              "      <th>2</th>\n",
              "      <td>0.0</td>\n",
              "      <td>-0.160627</td>\n",
              "      <td>-0.293478</td>\n",
              "      <td>-0.202112</td>\n",
              "    </tr>\n",
              "    <tr>\n",
              "      <th>3</th>\n",
              "      <td>0.0</td>\n",
              "      <td>0.276218</td>\n",
              "      <td>0.206522</td>\n",
              "      <td>0.378831</td>\n",
              "    </tr>\n",
              "    <tr>\n",
              "      <th>4</th>\n",
              "      <td>0.0</td>\n",
              "      <td>-0.003705</td>\n",
              "      <td>0.206522</td>\n",
              "      <td>-0.073999</td>\n",
              "    </tr>\n",
              "  </tbody>\n",
              "</table>\n",
              "</div>"
            ],
            "text/plain": [
              "   ones  scaled_size  scaled_rooms  scaled_prices\n",
              "0   0.0    -0.109883     -0.043478      -0.017395\n",
              "1   0.0     0.110746     -0.043478       0.056378\n",
              "2   0.0    -0.160627     -0.293478      -0.202112\n",
              "3   0.0     0.276218      0.206522       0.378831\n",
              "4   0.0    -0.003705      0.206522      -0.073999"
            ]
          },
          "metadata": {
            "tags": []
          },
          "execution_count": 17
        }
      ]
    },
    {
      "cell_type": "code",
      "metadata": {
        "id": "bbgWYgQioDZw",
        "colab_type": "code",
        "colab": {}
      },
      "source": [
        "X1_featured = data[colms[3]]\n",
        "X2_featured = data[colms[4]]\n",
        "y_featured = data[colms[5]]"
      ],
      "execution_count": 0,
      "outputs": []
    },
    {
      "cell_type": "code",
      "metadata": {
        "id": "8nlMhpjmnwID",
        "colab_type": "code",
        "colab": {
          "base_uri": "https://localhost:8080/",
          "height": 681
        },
        "outputId": "56ecf00e-cbea-4032-cf25-20f4f762168d"
      },
      "source": [
        "#plotting the unfeatured datasets\n",
        "fig, axs = plt.subplots(2, figsize=(13, 11))\n",
        "axs[0].scatter(X1_featured, y_featured)\n",
        "axs[0].set_title('Size vs Price(fea)')\n",
        "axs[1].scatter(X2_featured, y_featured)\n",
        "axs[1].set_title('Number of bedrooms vs prices(fea)')"
      ],
      "execution_count": 19,
      "outputs": [
        {
          "output_type": "execute_result",
          "data": {
            "text/plain": [
              "Text(0.5, 1.0, 'Number of bedrooms vs prices(fea)')"
            ]
          },
          "metadata": {
            "tags": []
          },
          "execution_count": 19
        },
        {
          "output_type": "display_data",
          "data": {
            "image/png": "[encoded data removed]",
            "text/plain": [
              "<Figure size 936x792 with 2 Axes>"
            ]
          },
          "metadata": {
            "tags": []
          }
        }
      ]
    },
    {
      "cell_type": "markdown",
      "metadata": {
        "id": "3iZuGZXTqkkL",
        "colab_type": "text"
      },
      "source": [
        "Now that's what I'm talking about. Now in graph we won't be noticing any difference but in the process of calculation we just saved ourselves from a huge bunch of trouble! I have not shown here but without feature scaling our attributes, our model will have abnormal values for cost function and parameters. If you don't beleive me you can try it out for yourselves. Go ahead and define X arrays consisting of ones feature, size feature and bedroom feature i.e unfeatured attributes, and do the same for y and params values and plug it into the function for accuracy score and costfunction above.Then you will understand why I used 'abnormal value' to describe it."
      ]
    },
    {
      "cell_type": "code",
      "metadata": {
        "id": "DOr54I29qzN3",
        "colab_type": "code",
        "colab": {}
      },
      "source": [
        "features = data.columns\n",
        "n = len(features) - 1"
      ],
      "execution_count": 0,
      "outputs": []
    },
    {
      "cell_type": "code",
      "metadata": {
        "id": "MlcbvjnZq24W",
        "colab_type": "code",
        "colab": {}
      },
      "source": [
        "X_data = data[[features[0], features[1], features[2]]]\n",
        "y_data = data[features[3]]\n",
        "params = np.zeros((n, 1))"
      ],
      "execution_count": 0,
      "outputs": []
    },
    {
      "cell_type": "code",
      "metadata": {
        "id": "rCO_JX6WrAp1",
        "colab_type": "code",
        "colab": {}
      },
      "source": [
        "X = np.array(X_data).reshape(m, n)\n",
        "y = np.array(y_data).reshape(m, 1)"
      ],
      "execution_count": 0,
      "outputs": []
    },
    {
      "cell_type": "code",
      "metadata": {
        "id": "ky-OeoUKrD_9",
        "colab_type": "code",
        "outputId": "f17912f8-3e06-45fc-e859-cc0314d87c50",
        "colab": {
          "base_uri": "https://localhost:8080/",
          "height": 34
        }
      },
      "source": [
        "c = costFunction(X, y, params)\n",
        "a = accuracy_score(X, y, params)\n",
        "print(f'costfunction={c}, accuracy score: {a}')"
      ],
      "execution_count": 23,
      "outputs": [
        {
          "output_type": "stream",
          "text": [
            "costfunction=0.027690236568537974, accuracy score: 94.4619526862924\n"
          ],
          "name": "stdout"
        }
      ]
    },
    {
      "cell_type": "markdown",
      "metadata": {
        "id": "l-gYNsWWsBq9",
        "colab_type": "text"
      },
      "source": [
        "Costfunction and accuray at the moment is quite interesting. Let's see if we can find the optimum highest accuracy that is closer to 100% and value of costfunction closer to 0."
      ]
    },
    {
      "cell_type": "code",
      "metadata": {
        "id": "FvAiXJESrsiR",
        "colab_type": "code",
        "outputId": "e9e12049-c390-4468-bc1a-56c0c1e56525",
        "colab": {
          "base_uri": "https://localhost:8080/",
          "height": 1000
        }
      },
      "source": [
        "loop(X, y, params)"
      ],
      "execution_count": 24,
      "outputs": [
        {
          "output_type": "stream",
          "text": [
            "Alpha: 0.01\n",
            "Iterations: 1500\n",
            "Continue: y\n",
            "Computing Done\n",
            "\n",
            "============================== Summary ==============================\n",
            "\t\n",
            "theta1: [0.], \n",
            "theta2: [0.4451673], \n",
            "theta3: [0.15722041], \n",
            "accuracy: 97.65107575819701, \n",
            "Cost: 0.011748417219163507\n",
            "*******************************************************************\n",
            "Continue: y\n",
            "Alpha: 0.01\n",
            "Iterations: 2500\n",
            "Continue: y\n",
            "Computing Done\n",
            "\n",
            "============================== Summary ==============================\n",
            "\t\n",
            "theta1: [0.], \n",
            "theta2: [0.59458675], \n",
            "theta3: [0.17292949], \n",
            "accuracy: 98.11456126283686, \n",
            "Cost: 0.00942852801756263\n",
            "*******************************************************************\n",
            "Continue: y\n",
            "Alpha: 0.01\n",
            "Iterations: 5000\n",
            "Continue: y\n",
            "Computing Done\n",
            "\n",
            "============================== Summary ==============================\n",
            "\t\n",
            "theta1: [0.], \n",
            "theta2: [0.77090089], \n",
            "theta3: [0.12528371], \n",
            "accuracy: 98.4053407539236, \n",
            "Cost: 0.007973539394472023\n",
            "*******************************************************************\n",
            "Continue: y\n",
            "Alpha: 0.01\n",
            "Iterations: 8000\n",
            "Continue: y\n",
            "Computing Done\n",
            "\n",
            "============================== Summary ==============================\n",
            "\t\n",
            "theta1: [0.], \n",
            "theta2: [0.85438167], \n",
            "theta3: [0.05443339], \n",
            "accuracy: 98.48813647660864, \n",
            "Cost: 0.007559390849904198\n",
            "*******************************************************************\n",
            "Continue: y\n",
            "Alpha: 0.01\n",
            "Iterations: 12000\n",
            "Continue: y\n",
            "Computing Done\n",
            "\n",
            "============================== Summary ==============================\n",
            "\t\n",
            "theta1: [0.], \n",
            "theta2: [0.90421347], \n",
            "theta3: [-0.00423766], \n",
            "accuracy: 98.51905245574926, \n",
            "Cost: 0.0074047549841619814\n",
            "*******************************************************************\n",
            "Continue: n\n"
          ],
          "name": "stdout"
        }
      ]
    },
    {
      "cell_type": "markdown",
      "metadata": {
        "id": "uyojXs2hsxw3",
        "colab_type": "text"
      },
      "source": [
        "So from the loop trials we can conclude that we can get our best fit model with accuracy 98.52% and cost function 0.0074 if the learning rate is 0.01 and it is iterated over 12000 times."
      ]
    },
    {
      "cell_type": "code",
      "metadata": {
        "id": "0omUfIoIagni",
        "colab_type": "code",
        "colab": {}
      },
      "source": [
        "p, mse, a, p_list = batch_gradient(X, y, params, 0.01, 12000)"
      ],
      "execution_count": 0,
      "outputs": []
    },
    {
      "cell_type": "code",
      "metadata": {
        "id": "orYDZzRir0Zg",
        "colab_type": "code",
        "colab": {
          "base_uri": "https://localhost:8080/",
          "height": 590
        },
        "outputId": "7326c116-1d43-4bcf-8f41-7c2af251d62e"
      },
      "source": [
        "fig, axs = plt.subplots(figsize=(11, 9))\n",
        "plt.plot(mse, [i for i in range(12000)])\n",
        "plt.title('Cost function, J over 12000 iterations')\n",
        "plt.xlabel('Cost Function, J')\n",
        "plt.ylabel('Iterations')"
      ],
      "execution_count": 26,
      "outputs": [
        {
          "output_type": "execute_result",
          "data": {
            "text/plain": [
              "Text(0, 0.5, 'Iterations')"
            ]
          },
          "metadata": {
            "tags": []
          },
          "execution_count": 26
        },
        {
          "output_type": "display_data",
          "data": {
            "image/png": "[encoded data removed]",
            "text/plain": [
              "<Figure size 792x648 with 1 Axes>"
            ]
          },
          "metadata": {
            "tags": []
          }
        }
      ]
    },
    {
      "cell_type": "markdown",
      "metadata": {
        "id": "DklYq4AotTwD",
        "colab_type": "text"
      },
      "source": [
        "The graph of the change in cost function with every iteration."
      ]
    },
    {
      "cell_type": "code",
      "metadata": {
        "id": "JXaWaM3Cgpw2",
        "colab_type": "code",
        "colab": {
          "base_uri": "https://localhost:8080/",
          "height": 590
        },
        "outputId": "22072b06-288f-47ae-a5ad-02f6046991d7"
      },
      "source": [
        "h = np.dot(X, p)\n",
        "fig, ax = plt.subplots(figsize=(11, 9))\n",
        "plt.scatter(X1_scaled, y_scaled, label='Dataset')\n",
        "plt.plot(X1_scaled, h, label='Regression Line')\n",
        "plt.title('Linear Regression Model on Size in sq.ft')\n",
        "plt.xlabel('Sizes sq.ft')\n",
        "plt.ylabel('Prices')\n",
        "plt.legend()"
      ],
      "execution_count": 27,
      "outputs": [
        {
          "output_type": "execute_result",
          "data": {
            "text/plain": [
              "<matplotlib.legend.Legend at 0x7f7e939de978>"
            ]
          },
          "metadata": {
            "tags": []
          },
          "execution_count": 27
        },
        {
          "output_type": "display_data",
          "data": {
            "image/png": "[encoded data removed]",
            "text/plain": [
              "<Figure size 792x648 with 1 Axes>"
            ]
          },
          "metadata": {
            "tags": []
          }
        }
      ]
    },
    {
      "cell_type": "code",
      "metadata": {
        "id": "GYiKk8wSi3sQ",
        "colab_type": "code",
        "colab": {
          "base_uri": "https://localhost:8080/",
          "height": 590
        },
        "outputId": "f945bdd8-5767-402e-a525-65830cb3cb32"
      },
      "source": [
        "h = np.dot(X, p)\n",
        "fig, ax = plt.subplots(figsize=(11, 9))\n",
        "plt.scatter(X2_scaled, y_scaled, label='Dataset')\n",
        "plt.plot(X2_scaled, h, label='Regression Line')\n",
        "plt.title('Linear Regression Model on No. of Bedrooms')\n",
        "plt.xlabel('no. of bedrooms')\n",
        "plt.ylabel('prices')\n",
        "plt.legend()"
      ],
      "execution_count": 28,
      "outputs": [
        {
          "output_type": "execute_result",
          "data": {
            "text/plain": [
              "<matplotlib.legend.Legend at 0x7f7e93961828>"
            ]
          },
          "metadata": {
            "tags": []
          },
          "execution_count": 28
        },
        {
          "output_type": "display_data",
          "data": {
            "image/png": "[encoded data removed]",
            "text/plain": [
              "<Figure size 792x648 with 1 Axes>"
            ]
          },
          "metadata": {
            "tags": []
          }
        }
      ]
    },
    {
      "cell_type": "code",
      "metadata": {
        "id": "eVhA062fL0gA",
        "colab_type": "code",
        "colab": {
          "base_uri": "https://localhost:8080/",
          "height": 34
        },
        "outputId": "c143fb91-2759-4a93-c06b-607cb61479e7"
      },
      "source": [
        "print(f'accuracy: {a}, costfunction: {mse[-1]}')"
      ],
      "execution_count": 31,
      "outputs": [
        {
          "output_type": "stream",
          "text": [
            "accuracy: 98.51905245574926, costfunction: 0.0074047549841619814\n"
          ],
          "name": "stdout"
        }
      ]
    },
    {
      "cell_type": "markdown",
      "metadata": {
        "id": "3qS7DSDPvJ3p",
        "colab_type": "text"
      },
      "source": [
        "Conclusion: In this project I have tried to fit, test and train the Linear Regression Model on a dataset of Housing Prices to predict the prices of a house based on its size in feet squared and number of bedrooms. This model can predict the price with an accuracy of 98.52%.\n",
        "\n",
        "Thus my first hand on applying Multi-variate Linear Regression from scratch is complete with success."
      ]
    }
  ]
}